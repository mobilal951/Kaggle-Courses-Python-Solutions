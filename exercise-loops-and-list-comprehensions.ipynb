{
 "cells": [
  {
   "cell_type": "markdown",
   "id": "answering-pantyhose",
   "metadata": {
    "papermill": {
     "duration": 0.016417,
     "end_time": "2021-04-17T11:17:26.424356",
     "exception": false,
     "start_time": "2021-04-17T11:17:26.407939",
     "status": "completed"
    },
    "tags": []
   },
   "source": [
    "**This notebook is an exercise in the [Python](https://www.kaggle.com/learn/python) course.  You can reference the tutorial at [this link](https://www.kaggle.com/colinmorris/loops-and-list-comprehensions).**\n",
    "\n",
    "---\n"
   ]
  },
  {
   "cell_type": "markdown",
   "id": "bound-friendship",
   "metadata": {
    "papermill": {
     "duration": 0.015611,
     "end_time": "2021-04-17T11:17:26.456188",
     "exception": false,
     "start_time": "2021-04-17T11:17:26.440577",
     "status": "completed"
    },
    "tags": []
   },
   "source": [
    "# Try It Yourself\n",
    "\n",
    "With all you've learned, you can start writing much more interesting programs. See if you can solve the problems below.\n",
    "\n",
    "As always, run the setup code below before working on the questions."
   ]
  },
  {
   "cell_type": "code",
   "execution_count": 1,
   "id": "original-assignment",
   "metadata": {
    "execution": {
     "iopub.execute_input": "2021-04-17T11:17:26.494589Z",
     "iopub.status.busy": "2021-04-17T11:17:26.493949Z",
     "iopub.status.idle": "2021-04-17T11:17:26.545498Z",
     "shell.execute_reply": "2021-04-17T11:17:26.546197Z"
    },
    "papermill": {
     "duration": 0.074451,
     "end_time": "2021-04-17T11:17:26.546492",
     "exception": false,
     "start_time": "2021-04-17T11:17:26.472041",
     "status": "completed"
    },
    "tags": []
   },
   "outputs": [
    {
     "name": "stdout",
     "output_type": "stream",
     "text": [
      "Setup complete.\n"
     ]
    }
   ],
   "source": [
    "from learntools.core import binder; binder.bind(globals())\n",
    "from learntools.python.ex5 import *\n",
    "print('Setup complete.')"
   ]
  },
  {
   "cell_type": "markdown",
   "id": "proof-optimum",
   "metadata": {
    "papermill": {
     "duration": 0.015844,
     "end_time": "2021-04-17T11:17:26.579102",
     "exception": false,
     "start_time": "2021-04-17T11:17:26.563258",
     "status": "completed"
    },
    "tags": []
   },
   "source": [
    "# Exercises"
   ]
  },
  {
   "cell_type": "markdown",
   "id": "united-attempt",
   "metadata": {
    "papermill": {
     "duration": 0.015881,
     "end_time": "2021-04-17T11:17:26.610959",
     "exception": false,
     "start_time": "2021-04-17T11:17:26.595078",
     "status": "completed"
    },
    "tags": []
   },
   "source": [
    "## 1.\n",
    "\n",
    "Have you ever felt debugging involved a bit of luck? The following program has a bug. Try to identify the bug and fix it."
   ]
  },
  {
   "cell_type": "code",
   "execution_count": 2,
   "id": "united-summary",
   "metadata": {
    "execution": {
     "iopub.execute_input": "2021-04-17T11:17:26.648323Z",
     "iopub.status.busy": "2021-04-17T11:17:26.647548Z",
     "iopub.status.idle": "2021-04-17T11:17:26.653955Z",
     "shell.execute_reply": "2021-04-17T11:17:26.653223Z"
    },
    "papermill": {
     "duration": 0.027153,
     "end_time": "2021-04-17T11:17:26.654103",
     "exception": false,
     "start_time": "2021-04-17T11:17:26.626950",
     "status": "completed"
    },
    "tags": []
   },
   "outputs": [],
   "source": [
    "def has_lucky_number(nums):\n",
    "    \"\"\"Return whether the given list of numbers is lucky. A lucky list contains\n",
    "    at least one number divisible by 7.\n",
    "    \"\"\"\n",
    "    for num in nums:\n",
    "        if num % 7 == 0:\n",
    "            return True\n",
    "        else:\n",
    "            return False"
   ]
  },
  {
   "cell_type": "markdown",
   "id": "sapphire-combining",
   "metadata": {
    "papermill": {
     "duration": 0.015559,
     "end_time": "2021-04-17T11:17:26.685419",
     "exception": false,
     "start_time": "2021-04-17T11:17:26.669860",
     "status": "completed"
    },
    "tags": []
   },
   "source": [
    "Try to identify the bug and fix it in the cell below:"
   ]
  },
  {
   "cell_type": "code",
   "execution_count": 3,
   "id": "broadband-jonathan",
   "metadata": {
    "execution": {
     "iopub.execute_input": "2021-04-17T11:17:26.726554Z",
     "iopub.status.busy": "2021-04-17T11:17:26.725590Z",
     "iopub.status.idle": "2021-04-17T11:17:26.730892Z",
     "shell.execute_reply": "2021-04-17T11:17:26.731550Z"
    },
    "papermill": {
     "duration": 0.030168,
     "end_time": "2021-04-17T11:17:26.731752",
     "exception": false,
     "start_time": "2021-04-17T11:17:26.701584",
     "status": "completed"
    },
    "tags": []
   },
   "outputs": [
    {
     "data": {
      "application/javascript": [
       "parent.postMessage({\"jupyterEvent\": \"custom.exercise_interaction\", \"data\": {\"outcomeType\": 1, \"valueTowardsCompletion\": 0.25, \"interactionType\": 1, \"questionType\": 2, \"questionId\": \"1_EarlyExitDebugging\", \"learnToolsVersion\": \"0.3.4\", \"failureMessage\": \"\", \"exceptionClass\": \"\", \"trace\": \"\"}}, \"*\")"
      ],
      "text/plain": [
       "<IPython.core.display.Javascript object>"
      ]
     },
     "metadata": {},
     "output_type": "display_data"
    },
    {
     "data": {
      "text/markdown": [
       "<span style=\"color:#33cc33\">Correct:</span> \n",
       "\n",
       "Remember that `return` causes a function to exit immediately. So our original implementation always ran for just one iteration. We can only return `False` if we've looked at every element of the list (and confirmed that none of them are lucky). Though we can return early if the answer is `True`:\n",
       "\n",
       "```python\n",
       "def has_lucky_number(nums):\n",
       "    for num in nums:\n",
       "        if num % 7 == 0:\n",
       "            return True\n",
       "    # We've exhausted the list without finding a lucky number\n",
       "    return False\n",
       "```\n",
       "\n",
       "Here's a one-line version using a list comprehension with Python's `any` function (you can read about what it does by calling `help(any)`):\n",
       "\n",
       "```python\n",
       "def has_lucky_number(nums):\n",
       "    return any([num % 7 == 0 for num in nums])\n",
       "```\n"
      ],
      "text/plain": [
       "Correct: \n",
       "\n",
       "Remember that `return` causes a function to exit immediately. So our original implementation always ran for just one iteration. We can only return `False` if we've looked at every element of the list (and confirmed that none of them are lucky). Though we can return early if the answer is `True`:\n",
       "\n",
       "```python\n",
       "def has_lucky_number(nums):\n",
       "    for num in nums:\n",
       "        if num % 7 == 0:\n",
       "            return True\n",
       "    # We've exhausted the list without finding a lucky number\n",
       "    return False\n",
       "```\n",
       "\n",
       "Here's a one-line version using a list comprehension with Python's `any` function (you can read about what it does by calling `help(any)`):\n",
       "\n",
       "```python\n",
       "def has_lucky_number(nums):\n",
       "    return any([num % 7 == 0 for num in nums])\n",
       "```"
      ]
     },
     "metadata": {},
     "output_type": "display_data"
    }
   ],
   "source": [
    "def has_lucky_number(nums):\n",
    "    \"\"\"Return whether the given list of numbers is lucky. A lucky list contains\n",
    "    at least one number divisible by 7.\n",
    "    \"\"\"\n",
    "    for num in nums:\n",
    "        if num % 7 == 0:\n",
    "            return True\n",
    "    return False\n",
    "\n",
    "# Check your answer\n",
    "q1.check()"
   ]
  },
  {
   "cell_type": "code",
   "execution_count": 4,
   "id": "gentle-mitchell",
   "metadata": {
    "execution": {
     "iopub.execute_input": "2021-04-17T11:17:26.769696Z",
     "iopub.status.busy": "2021-04-17T11:17:26.768796Z",
     "iopub.status.idle": "2021-04-17T11:17:26.772214Z",
     "shell.execute_reply": "2021-04-17T11:17:26.772690Z"
    },
    "papermill": {
     "duration": 0.02363,
     "end_time": "2021-04-17T11:17:26.772878",
     "exception": false,
     "start_time": "2021-04-17T11:17:26.749248",
     "status": "completed"
    },
    "tags": []
   },
   "outputs": [],
   "source": [
    "#q1.hint()\n",
    "#q1.solution()"
   ]
  },
  {
   "cell_type": "markdown",
   "id": "indian-lover",
   "metadata": {
    "papermill": {
     "duration": 0.016499,
     "end_time": "2021-04-17T11:17:26.807972",
     "exception": false,
     "start_time": "2021-04-17T11:17:26.791473",
     "status": "completed"
    },
    "tags": []
   },
   "source": [
    "## 2.\n",
    "\n",
    "### a.\n",
    "Look at the Python expression below. What do you think we'll get when we run it? When you've made your prediction, uncomment the code and run the cell to see if you were right."
   ]
  },
  {
   "cell_type": "code",
   "execution_count": 5,
   "id": "northern-contributor",
   "metadata": {
    "execution": {
     "iopub.execute_input": "2021-04-17T11:17:26.845449Z",
     "iopub.status.busy": "2021-04-17T11:17:26.844813Z",
     "iopub.status.idle": "2021-04-17T11:17:26.896208Z",
     "shell.execute_reply": "2021-04-17T11:17:26.895562Z"
    },
    "papermill": {
     "duration": 0.071326,
     "end_time": "2021-04-17T11:17:26.896413",
     "exception": false,
     "start_time": "2021-04-17T11:17:26.825087",
     "status": "completed"
    },
    "tags": []
   },
   "outputs": [
    {
     "ename": "TypeError",
     "evalue": "'>' not supported between instances of 'list' and 'int'",
     "output_type": "error",
     "traceback": [
      "\u001b[0;31m---------------------------------------------------------------------------\u001b[0m",
      "\u001b[0;31mTypeError\u001b[0m                                 Traceback (most recent call last)",
      "\u001b[0;32m<ipython-input-5-6f064fcfe2b9>\u001b[0m in \u001b[0;36m<module>\u001b[0;34m\u001b[0m\n\u001b[0;32m----> 1\u001b[0;31m \u001b[0;34m[\u001b[0m\u001b[0;36m1\u001b[0m\u001b[0;34m,\u001b[0m \u001b[0;36m2\u001b[0m\u001b[0;34m,\u001b[0m \u001b[0;36m3\u001b[0m\u001b[0;34m,\u001b[0m \u001b[0;36m4\u001b[0m\u001b[0;34m]\u001b[0m \u001b[0;34m>\u001b[0m \u001b[0;36m2\u001b[0m\u001b[0;34m\u001b[0m\u001b[0;34m\u001b[0m\u001b[0m\n\u001b[0m",
      "\u001b[0;31mTypeError\u001b[0m: '>' not supported between instances of 'list' and 'int'"
     ]
    }
   ],
   "source": [
    "[1, 2, 3, 4] > 2"
   ]
  },
  {
   "cell_type": "markdown",
   "id": "maritime-ground",
   "metadata": {
    "papermill": {
     "duration": 0.017175,
     "end_time": "2021-04-17T11:17:26.931913",
     "exception": false,
     "start_time": "2021-04-17T11:17:26.914738",
     "status": "completed"
    },
    "tags": []
   },
   "source": [
    "### b\n",
    "R and Python have some libraries (like numpy and pandas) compare each element of the list to 2 (i.e. do an 'element-wise' comparison) and give us a list of booleans like `[False, False, True, True]`. \n",
    "\n",
    "Implement a function that reproduces this behaviour, returning a list of booleans corresponding to whether the corresponding element is greater than n.\n"
   ]
  },
  {
   "cell_type": "code",
   "execution_count": 6,
   "id": "suspended-arthur",
   "metadata": {
    "execution": {
     "iopub.execute_input": "2021-04-17T11:17:26.974830Z",
     "iopub.status.busy": "2021-04-17T11:17:26.973830Z",
     "iopub.status.idle": "2021-04-17T11:17:26.982312Z",
     "shell.execute_reply": "2021-04-17T11:17:26.981695Z"
    },
    "papermill": {
     "duration": 0.033175,
     "end_time": "2021-04-17T11:17:26.982464",
     "exception": false,
     "start_time": "2021-04-17T11:17:26.949289",
     "status": "completed"
    },
    "tags": []
   },
   "outputs": [
    {
     "data": {
      "application/javascript": [
       "parent.postMessage({\"jupyterEvent\": \"custom.exercise_interaction\", \"data\": {\"outcomeType\": 1, \"valueTowardsCompletion\": 0.25, \"interactionType\": 1, \"questionType\": 2, \"questionId\": \"2_ElementWiseComparison\", \"learnToolsVersion\": \"0.3.4\", \"failureMessage\": \"\", \"exceptionClass\": \"\", \"trace\": \"\"}}, \"*\")"
      ],
      "text/plain": [
       "<IPython.core.display.Javascript object>"
      ]
     },
     "metadata": {},
     "output_type": "display_data"
    },
    {
     "data": {
      "text/markdown": [
       "<span style=\"color:#33cc33\">Correct:</span> \n",
       "\n",
       "Here's one solution:\n",
       "```python\n",
       "def elementwise_greater_than(L, thresh):\n",
       "    res = []\n",
       "    for ele in L:\n",
       "        res.append(ele > thresh)\n",
       "    return res\n",
       "```\n",
       "\n",
       "And here's the list comprehension version:\n",
       "```python\n",
       "def elementwise_greater_than(L, thresh):\n",
       "    return [ele > thresh for ele in L]\n",
       "```\n"
      ],
      "text/plain": [
       "Correct: \n",
       "\n",
       "Here's one solution:\n",
       "```python\n",
       "def elementwise_greater_than(L, thresh):\n",
       "    res = []\n",
       "    for ele in L:\n",
       "        res.append(ele > thresh)\n",
       "    return res\n",
       "```\n",
       "\n",
       "And here's the list comprehension version:\n",
       "```python\n",
       "def elementwise_greater_than(L, thresh):\n",
       "    return [ele > thresh for ele in L]\n",
       "```"
      ]
     },
     "metadata": {},
     "output_type": "display_data"
    }
   ],
   "source": [
    "def elementwise_greater_than(L, thresh):\n",
    "    \"\"\"Return a list with the same length as L, where the value at index i is \n",
    "    True if L[i] is greater than thresh, and False otherwise.\n",
    "    \n",
    "    >>> elementwise_greater_than([1, 2, 3, 4], 2)\n",
    "    [False, False, True, True]\n",
    "    \"\"\"\n",
    "    answer =[]\n",
    "    for i in L:\n",
    "        if i>thresh:\n",
    "            answer.append(True)\n",
    "        else:\n",
    "            answer.append(False)\n",
    "    return answer\n",
    "\n",
    "# Check your answer\n",
    "q2.check()"
   ]
  },
  {
   "cell_type": "code",
   "execution_count": 7,
   "id": "joint-brave",
   "metadata": {
    "execution": {
     "iopub.execute_input": "2021-04-17T11:17:27.026052Z",
     "iopub.status.busy": "2021-04-17T11:17:27.025063Z",
     "iopub.status.idle": "2021-04-17T11:17:27.028204Z",
     "shell.execute_reply": "2021-04-17T11:17:27.027554Z"
    },
    "papermill": {
     "duration": 0.026175,
     "end_time": "2021-04-17T11:17:27.028359",
     "exception": false,
     "start_time": "2021-04-17T11:17:27.002184",
     "status": "completed"
    },
    "tags": []
   },
   "outputs": [],
   "source": [
    "#q2.solution()"
   ]
  },
  {
   "cell_type": "markdown",
   "id": "provincial-copyright",
   "metadata": {
    "papermill": {
     "duration": 0.020422,
     "end_time": "2021-04-17T11:17:27.067994",
     "exception": false,
     "start_time": "2021-04-17T11:17:27.047572",
     "status": "completed"
    },
    "tags": []
   },
   "source": [
    "## 3.\n",
    "\n",
    "Complete the body of the function below according to its docstring."
   ]
  },
  {
   "cell_type": "code",
   "execution_count": 8,
   "id": "ranging-bowling",
   "metadata": {
    "execution": {
     "iopub.execute_input": "2021-04-17T11:17:27.110811Z",
     "iopub.status.busy": "2021-04-17T11:17:27.110082Z",
     "iopub.status.idle": "2021-04-17T11:17:27.118960Z",
     "shell.execute_reply": "2021-04-17T11:17:27.118401Z"
    },
    "papermill": {
     "duration": 0.031742,
     "end_time": "2021-04-17T11:17:27.119105",
     "exception": false,
     "start_time": "2021-04-17T11:17:27.087363",
     "status": "completed"
    },
    "tags": []
   },
   "outputs": [
    {
     "data": {
      "application/javascript": [
       "parent.postMessage({\"jupyterEvent\": \"custom.exercise_interaction\", \"data\": {\"outcomeType\": 1, \"valueTowardsCompletion\": 0.25, \"interactionType\": 1, \"questionType\": 2, \"questionId\": \"3_BoringMenu\", \"learnToolsVersion\": \"0.3.4\", \"failureMessage\": \"\", \"exceptionClass\": \"\", \"trace\": \"\"}}, \"*\")"
      ],
      "text/plain": [
       "<IPython.core.display.Javascript object>"
      ]
     },
     "metadata": {},
     "output_type": "display_data"
    },
    {
     "data": {
      "text/markdown": [
       "<span style=\"color:#33cc33\">Correct:</span> \n",
       "\n",
       "\n",
       "\n",
       "```python\n",
       "def menu_is_boring(meals):\n",
       "    # Iterate over all indices of the list, except the last one\n",
       "    for i in range(len(meals)-1):\n",
       "        if meals[i] == meals[i+1]:\n",
       "            return True\n",
       "    return False\n",
       "```\n",
       "\n",
       "The key to our solution is the call to `range`. `range(len(meals))` would give us all the indices of `meals`. If we had used that range, the last iteration of the loop would be comparing the last element to the element after it, which is... `IndexError`! `range(len(meals)-1)` gives us all the indices except the index of the last element.\n",
       "\n",
       "But don't we need to check if `meals` is empty? Turns out that `range(0) == range(-1)` - they're both empty. So if `meals` has length 0 or 1, we just won't do any iterations of our for loop.\n"
      ],
      "text/plain": [
       "Correct: \n",
       "\n",
       "\n",
       "\n",
       "```python\n",
       "def menu_is_boring(meals):\n",
       "    # Iterate over all indices of the list, except the last one\n",
       "    for i in range(len(meals)-1):\n",
       "        if meals[i] == meals[i+1]:\n",
       "            return True\n",
       "    return False\n",
       "```\n",
       "\n",
       "The key to our solution is the call to `range`. `range(len(meals))` would give us all the indices of `meals`. If we had used that range, the last iteration of the loop would be comparing the last element to the element after it, which is... `IndexError`! `range(len(meals)-1)` gives us all the indices except the index of the last element.\n",
       "\n",
       "But don't we need to check if `meals` is empty? Turns out that `range(0) == range(-1)` - they're both empty. So if `meals` has length 0 or 1, we just won't do any iterations of our for loop."
      ]
     },
     "metadata": {},
     "output_type": "display_data"
    }
   ],
   "source": [
    "def menu_is_boring(meals):\n",
    "    \"\"\"Given a list of meals served over some period of time, return True if the\n",
    "    same meal has ever been served two days in a row, and False otherwise.\n",
    "    \"\"\"\n",
    "    length=len(meals)\n",
    "    for i in range(length-1):\n",
    "        if meals[i]==meals[i+1]:\n",
    "            return True\n",
    "    return False\n",
    "# Check your answer\n",
    "q3.check()"
   ]
  },
  {
   "cell_type": "code",
   "execution_count": 9,
   "id": "current-detective",
   "metadata": {
    "execution": {
     "iopub.execute_input": "2021-04-17T11:17:27.166041Z",
     "iopub.status.busy": "2021-04-17T11:17:27.165001Z",
     "iopub.status.idle": "2021-04-17T11:17:27.168592Z",
     "shell.execute_reply": "2021-04-17T11:17:27.167910Z"
    },
    "papermill": {
     "duration": 0.028811,
     "end_time": "2021-04-17T11:17:27.168742",
     "exception": false,
     "start_time": "2021-04-17T11:17:27.139931",
     "status": "completed"
    },
    "tags": []
   },
   "outputs": [],
   "source": [
    "#q3.hint()\n",
    "#q3.solution()"
   ]
  },
  {
   "cell_type": "markdown",
   "id": "acute-rainbow",
   "metadata": {
    "papermill": {
     "duration": 0.020112,
     "end_time": "2021-04-17T11:17:27.210555",
     "exception": false,
     "start_time": "2021-04-17T11:17:27.190443",
     "status": "completed"
    },
    "tags": []
   },
   "source": [
    "## 4. <span title=\"A bit spicy\" style=\"color: darkgreen \">🌶️</span>\n",
    "\n",
    "Next to the Blackjack table, the Python Challenge Casino has a slot machine. You can get a result from the slot machine by calling `play_slot_machine()`. The number it returns is your winnings in dollars. Usually it returns 0.  But sometimes you'll get lucky and get a big payday. Try running it below:"
   ]
  },
  {
   "cell_type": "code",
   "execution_count": 10,
   "id": "diagnostic-policy",
   "metadata": {
    "execution": {
     "iopub.execute_input": "2021-04-17T11:17:27.257091Z",
     "iopub.status.busy": "2021-04-17T11:17:27.256332Z",
     "iopub.status.idle": "2021-04-17T11:17:27.260421Z",
     "shell.execute_reply": "2021-04-17T11:17:27.259764Z"
    },
    "papermill": {
     "duration": 0.02973,
     "end_time": "2021-04-17T11:17:27.260573",
     "exception": false,
     "start_time": "2021-04-17T11:17:27.230843",
     "status": "completed"
    },
    "tags": []
   },
   "outputs": [
    {
     "data": {
      "text/plain": [
       "0"
      ]
     },
     "execution_count": 10,
     "metadata": {},
     "output_type": "execute_result"
    }
   ],
   "source": [
    "play_slot_machine()"
   ]
  },
  {
   "cell_type": "markdown",
   "id": "positive-connectivity",
   "metadata": {
    "papermill": {
     "duration": 0.020798,
     "end_time": "2021-04-17T11:17:27.302515",
     "exception": false,
     "start_time": "2021-04-17T11:17:27.281717",
     "status": "completed"
    },
    "tags": []
   },
   "source": [
    "By the way, did we mention that each play costs $1? Don't worry, we'll send you the bill later.\n",
    "\n",
    "On average, how much money can you expect to gain (or lose) every time you play the machine?  The casino keeps it a secret, but you can estimate the average value of each pull using a technique called the **Monte Carlo method**. To estimate the average outcome, we simulate the scenario many times, and return the average result.\n",
    "\n",
    "Complete the following function to calculate the average value per play of the slot machine."
   ]
  },
  {
   "cell_type": "code",
   "execution_count": 11,
   "id": "retired-singles",
   "metadata": {
    "execution": {
     "iopub.execute_input": "2021-04-17T11:17:27.348373Z",
     "iopub.status.busy": "2021-04-17T11:17:27.347694Z",
     "iopub.status.idle": "2021-04-17T11:17:27.351455Z",
     "shell.execute_reply": "2021-04-17T11:17:27.351954Z"
    },
    "papermill": {
     "duration": 0.028433,
     "end_time": "2021-04-17T11:17:27.352164",
     "exception": false,
     "start_time": "2021-04-17T11:17:27.323731",
     "status": "completed"
    },
    "tags": []
   },
   "outputs": [],
   "source": [
    "def estimate_average_slot_payout(n_runs):\n",
    "    \"\"\"Run the slot machine n_runs times and return the average net profit per run.\n",
    "    Example calls (note that return value is nondeterministic!):\n",
    "    >>> estimate_average_slot_payout(1)\n",
    "    -1\n",
    "    >>> estimate_average_slot_payout(1)\n",
    "    0.5\n",
    "    \"\"\""
   ]
  },
  {
   "cell_type": "markdown",
   "id": "adjusted-point",
   "metadata": {
    "papermill": {
     "duration": 0.021143,
     "end_time": "2021-04-17T11:17:27.395730",
     "exception": false,
     "start_time": "2021-04-17T11:17:27.374587",
     "status": "completed"
    },
    "tags": []
   },
   "source": [
    "When you think you know the expected value per spin, run the code cell below to view the solution and get credit for answering the question."
   ]
  },
  {
   "cell_type": "code",
   "execution_count": 12,
   "id": "pregnant-reference",
   "metadata": {
    "execution": {
     "iopub.execute_input": "2021-04-17T11:17:27.444145Z",
     "iopub.status.busy": "2021-04-17T11:17:27.443050Z",
     "iopub.status.idle": "2021-04-17T11:17:27.450314Z",
     "shell.execute_reply": "2021-04-17T11:17:27.449717Z"
    },
    "papermill": {
     "duration": 0.033491,
     "end_time": "2021-04-17T11:17:27.450473",
     "exception": false,
     "start_time": "2021-04-17T11:17:27.416982",
     "status": "completed"
    },
    "tags": []
   },
   "outputs": [
    {
     "data": {
      "application/javascript": [
       "parent.postMessage({\"jupyterEvent\": \"custom.exercise_interaction\", \"data\": {\"interactionType\": 3, \"questionType\": 4, \"questionId\": \"4_ExpectedSlotsPayout\", \"learnToolsVersion\": \"0.3.4\", \"valueTowardsCompletion\": 0.0, \"failureMessage\": \"\", \"exceptionClass\": \"\", \"trace\": \"\", \"outcomeType\": 4}}, \"*\")"
      ],
      "text/plain": [
       "<IPython.core.display.Javascript object>"
      ]
     },
     "metadata": {},
     "output_type": "display_data"
    },
    {
     "data": {
      "text/markdown": [
       "<span style=\"color:#33cc99\">Solution:</span> The exact expected value of one pull of the slot machine is 0.025 - i.e. a little more than 2 cents. See? Not every game in the Python Challenge Casino is rigged against the player!\n",
       "\n",
       "Because of the high variance of the outcome (there are some very rare high payout results that significantly affect the average) you might need to run your function with a very high value of `n_runs` to get a stable answer close to the true expectation.\n",
       "\n",
       "If your answer is way higher than 0.025, then maybe you forgot to account for the $1 cost per play?"
      ],
      "text/plain": [
       "Solution: The exact expected value of one pull of the slot machine is 0.025 - i.e. a little more than 2 cents. See? Not every game in the Python Challenge Casino is rigged against the player!\n",
       "\n",
       "Because of the high variance of the outcome (there are some very rare high payout results that significantly affect the average) you might need to run your function with a very high value of `n_runs` to get a stable answer close to the true expectation.\n",
       "\n",
       "If your answer is way higher than 0.025, then maybe you forgot to account for the $1 cost per play?"
      ]
     },
     "metadata": {},
     "output_type": "display_data"
    }
   ],
   "source": [
    "# Check your answer (Run this code cell to receive credit!)\n",
    "q4.solution()"
   ]
  },
  {
   "cell_type": "markdown",
   "id": "seeing-chrome",
   "metadata": {
    "papermill": {
     "duration": 0.022361,
     "end_time": "2021-04-17T11:17:27.496002",
     "exception": false,
     "start_time": "2021-04-17T11:17:27.473641",
     "status": "completed"
    },
    "tags": []
   },
   "source": [
    "# Keep Going\n",
    "\n",
    "Many programmers report that dictionaries are their favorite data structure. You'll get to **[learn about them](https://www.kaggle.com/colinmorris/strings-and-dictionaries)** (as well as strings) in the next lesson."
   ]
  },
  {
   "cell_type": "markdown",
   "id": "sudden-creator",
   "metadata": {
    "papermill": {
     "duration": 0.022271,
     "end_time": "2021-04-17T11:17:27.541080",
     "exception": false,
     "start_time": "2021-04-17T11:17:27.518809",
     "status": "completed"
    },
    "tags": []
   },
   "source": [
    "---\n",
    "\n",
    "\n",
    "\n",
    "\n",
    "*Have questions or comments? Visit the [Learn Discussion forum](https://www.kaggle.com/learn-forum/161283) to chat with other Learners.*"
   ]
  }
 ],
 "metadata": {
  "kernelspec": {
   "display_name": "Python 3",
   "language": "python",
   "name": "python3"
  },
  "language_info": {
   "codemirror_mode": {
    "name": "ipython",
    "version": 3
   },
   "file_extension": ".py",
   "mimetype": "text/x-python",
   "name": "python",
   "nbconvert_exporter": "python",
   "pygments_lexer": "ipython3",
   "version": "3.7.9"
  },
  "papermill": {
   "default_parameters": {},
   "duration": 8.809579,
   "end_time": "2021-04-17T11:17:28.174173",
   "environment_variables": {},
   "exception": null,
   "input_path": "__notebook__.ipynb",
   "output_path": "__notebook__.ipynb",
   "parameters": {},
   "start_time": "2021-04-17T11:17:19.364594",
   "version": "2.3.2"
  }
 },
 "nbformat": 4,
 "nbformat_minor": 5
}
